{
 "cells": [
  {
   "cell_type": "code",
   "execution_count": 3,
   "id": "5e1bd1da-e3fb-40f1-b34d-fdef1b190f04",
   "metadata": {},
   "outputs": [
    {
     "name": "stdout",
     "output_type": "stream",
     "text": [
      "Defaulting to user installation because normal site-packages is not writeable\n",
      "Requirement already satisfied: click in /home/gahwagrw/.local/lib/python3.8/site-packages (7.1.2)\n",
      "Collecting click\n",
      "  Using cached click-8.1.8-py3-none-any.whl.metadata (2.3 kB)\n",
      "Using cached click-8.1.8-py3-none-any.whl (98 kB)\n",
      "Installing collected packages: click\n",
      "  Attempting uninstall: click\n",
      "    Found existing installation: click 7.1.2\n",
      "    Uninstalling click-7.1.2:\n",
      "      Successfully uninstalled click-7.1.2\n",
      "\u001b[31mERROR: pip's dependency resolver does not currently take into account all the packages that are installed. This behaviour is the source of the following dependency conflicts.\n",
      "landsatxplore 0.15.0 requires click<8.0,>=7.1, but you have click 8.1.8 which is incompatible.\u001b[0m\u001b[31m\n",
      "\u001b[0mSuccessfully installed click-8.1.8\n",
      "Note: you may need to restart the kernel to use updated packages.\n"
     ]
    }
   ],
   "source": [
    "pip install --upgrade click"
   ]
  },
  {
   "cell_type": "code",
   "execution_count": 4,
   "id": "51f10287-10ea-482a-9277-1f07cd768983",
   "metadata": {},
   "outputs": [
    {
     "name": "stdout",
     "output_type": "stream",
     "text": [
      "Defaulting to user installation because normal site-packages is not writeable\n",
      "Requirement already satisfied: landsatxplore in /home/gahwagrw/.local/lib/python3.8/site-packages (0.15.0)\n",
      "Collecting click<8.0,>=7.1 (from landsatxplore)\n",
      "  Using cached click-7.1.2-py2.py3-none-any.whl.metadata (2.9 kB)\n",
      "Requirement already satisfied: python-dateutil<3.0,>=2.8 in /home/gahwagrw/.local/lib/python3.8/site-packages (from landsatxplore) (2.9.0.post0)\n",
      "Requirement already satisfied: requests<3.0,>=2.20 in /home/gahwagrw/.local/lib/python3.8/site-packages (from landsatxplore) (2.31.0)\n",
      "Requirement already satisfied: shapely<2.0,>=1.7 in /home/gahwagrw/.local/lib/python3.8/site-packages (from landsatxplore) (1.8.5.post1)\n",
      "Requirement already satisfied: tqdm<5.0,>=4.58 in /home/gahwagrw/.local/lib/python3.8/site-packages (from landsatxplore) (4.66.2)\n",
      "Requirement already satisfied: six>=1.5 in /usr/lib/python3/dist-packages (from python-dateutil<3.0,>=2.8->landsatxplore) (1.14.0)\n",
      "Requirement already satisfied: charset-normalizer<4,>=2 in /home/gahwagrw/.local/lib/python3.8/site-packages (from requests<3.0,>=2.20->landsatxplore) (3.3.2)\n",
      "Requirement already satisfied: idna<4,>=2.5 in /usr/lib/python3/dist-packages (from requests<3.0,>=2.20->landsatxplore) (2.8)\n",
      "Requirement already satisfied: urllib3<3,>=1.21.1 in /usr/lib/python3/dist-packages (from requests<3.0,>=2.20->landsatxplore) (1.25.8)\n",
      "Requirement already satisfied: certifi>=2017.4.17 in /usr/lib/python3/dist-packages (from requests<3.0,>=2.20->landsatxplore) (2019.11.28)\n",
      "Using cached click-7.1.2-py2.py3-none-any.whl (82 kB)\n",
      "Installing collected packages: click\n",
      "  Attempting uninstall: click\n",
      "    Found existing installation: click 8.1.8\n",
      "    Uninstalling click-8.1.8:\n",
      "      Successfully uninstalled click-8.1.8\n",
      "\u001b[31mERROR: pip's dependency resolver does not currently take into account all the packages that are installed. This behaviour is the source of the following dependency conflicts.\n",
      "dask 2023.5.0 requires click>=8.0, but you have click 7.1.2 which is incompatible.\n",
      "distributed 2023.5.0 requires click>=8.0, but you have click 7.1.2 which is incompatible.\n",
      "fiona 1.9.6 requires click~=8.0, but you have click 7.1.2 which is incompatible.\u001b[0m\u001b[31m\n",
      "\u001b[0mSuccessfully installed click-7.1.2\n",
      "Note: you may need to restart the kernel to use updated packages.\n"
     ]
    }
   ],
   "source": [
    "pip install landsatxplore"
   ]
  },
  {
   "cell_type": "code",
   "execution_count": null,
   "id": "9c04217a-1b39-4acc-894b-e97ad066f5b3",
   "metadata": {},
   "outputs": [],
   "source": []
  }
 ],
 "metadata": {
  "kernelspec": {
   "display_name": "Python 3 (ipykernel)",
   "language": "python",
   "name": "python3"
  },
  "language_info": {
   "codemirror_mode": {
    "name": "ipython",
    "version": 3
   },
   "file_extension": ".py",
   "mimetype": "text/x-python",
   "name": "python",
   "nbconvert_exporter": "python",
   "pygments_lexer": "ipython3",
   "version": "3.8.10"
  }
 },
 "nbformat": 4,
 "nbformat_minor": 5
}
