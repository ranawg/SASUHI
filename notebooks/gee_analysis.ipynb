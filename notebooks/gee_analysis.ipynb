{
 "cells": [
  {
   "cell_type": "code",
   "execution_count": 1,
   "id": "dbcca772-2024-45bd-8bf4-6faad7bffc22",
   "metadata": {},
   "outputs": [],
   "source": [
    "import geetools\n",
    "import ee\n",
    "import geemap\n",
    "import random\n",
    "import rasterio\n",
    "from rasterio.plot import show\n",
    "import matplotlib.pyplot as plt\n",
    "import xarray as xr\n",
    "import numpy as np\n",
    "import pandas as pd\n",
    "import math\n",
    "import os\n",
    "from datetime import datetime\n",
    "import skimage\n",
    "import time\n",
    "from A1_landsat_functions import *\n"
   ]
  },
  {
   "cell_type": "code",
   "execution_count": 31,
   "id": "adaac8ad-6331-472a-a5f3-5f6585fec761",
   "metadata": {},
   "outputs": [
    {
     "data": {
      "text/html": [
       "\n",
       "            <style>\n",
       "                .geemap-dark {\n",
       "                    --jp-widgets-color: white;\n",
       "                    --jp-widgets-label-color: white;\n",
       "                    --jp-ui-font-color1: white;\n",
       "                    --jp-layout-color2: #454545;\n",
       "                    background-color: #383838;\n",
       "                }\n",
       "\n",
       "                .geemap-dark .jupyter-button {\n",
       "                    --jp-layout-color3: #383838;\n",
       "                }\n",
       "\n",
       "                .geemap-colab {\n",
       "                    background-color: var(--colab-primary-surface-color, white);\n",
       "                }\n",
       "\n",
       "                .geemap-colab .jupyter-button {\n",
       "                    --jp-layout-color3: var(--colab-primary-surface-color, white);\n",
       "                }\n",
       "            </style>\n",
       "            "
      ],
      "text/plain": [
       "<IPython.core.display.HTML object>"
      ]
     },
     "metadata": {},
     "output_type": "display_data"
    },
    {
     "data": {
      "text/plain": [
       "True"
      ]
     },
     "execution_count": 31,
     "metadata": {},
     "output_type": "execute_result"
    }
   ],
   "source": [
    "ee.Authenticate(auth_mode=\"notebook\")"
   ]
  },
  {
   "cell_type": "code",
   "execution_count": 32,
   "id": "c49d5752-96db-423b-813f-cfa43c8503aa",
   "metadata": {},
   "outputs": [
    {
     "data": {
      "text/html": [
       "\n",
       "            <style>\n",
       "                .geemap-dark {\n",
       "                    --jp-widgets-color: white;\n",
       "                    --jp-widgets-label-color: white;\n",
       "                    --jp-ui-font-color1: white;\n",
       "                    --jp-layout-color2: #454545;\n",
       "                    background-color: #383838;\n",
       "                }\n",
       "\n",
       "                .geemap-dark .jupyter-button {\n",
       "                    --jp-layout-color3: #383838;\n",
       "                }\n",
       "\n",
       "                .geemap-colab {\n",
       "                    background-color: var(--colab-primary-surface-color, white);\n",
       "                }\n",
       "\n",
       "                .geemap-colab .jupyter-button {\n",
       "                    --jp-layout-color3: var(--colab-primary-surface-color, white);\n",
       "                }\n",
       "            </style>\n",
       "            "
      ],
      "text/plain": [
       "<IPython.core.display.HTML object>"
      ]
     },
     "metadata": {},
     "output_type": "display_data"
    }
   ],
   "source": [
    "ee.Initialize()"
   ]
  },
  {
   "cell_type": "code",
   "execution_count": 56,
   "id": "a813260d-6591-4bd3-b514-1b2412d5a575",
   "metadata": {},
   "outputs": [
    {
     "data": {
      "text/html": [
       "\n",
       "            <style>\n",
       "                .geemap-dark {\n",
       "                    --jp-widgets-color: white;\n",
       "                    --jp-widgets-label-color: white;\n",
       "                    --jp-ui-font-color1: white;\n",
       "                    --jp-layout-color2: #454545;\n",
       "                    background-color: #383838;\n",
       "                }\n",
       "\n",
       "                .geemap-dark .jupyter-button {\n",
       "                    --jp-layout-color3: #383838;\n",
       "                }\n",
       "\n",
       "                .geemap-colab {\n",
       "                    background-color: var(--colab-primary-surface-color, white);\n",
       "                }\n",
       "\n",
       "                .geemap-colab .jupyter-button {\n",
       "                    --jp-layout-color3: var(--colab-primary-surface-color, white);\n",
       "                }\n",
       "            </style>\n",
       "            "
      ],
      "text/plain": [
       "<IPython.core.display.HTML object>"
      ]
     },
     "metadata": {},
     "output_type": "display_data"
    }
   ],
   "source": [
    "#define coordinates to use \n",
    "coords_jd = (39.0053612, 21.4210088, 39.3253612, 21.7410088)  # Jeddah\n",
    "coords_md = (39.4511216, 24.311153, 39.7711216, 24.631153)   # Medina\n",
    "coords_mk = (39.698,21.078,40.222,21.694)     # Mecca\n",
    "coords_tf = (40.2558308, 21.1102801, 40.5758308, 21.4302801)   # Taif\n",
    "#coords_rd \n",
    "coords_rd = (46.5560104, 24.478916, 46.8760104, 24.798916) #Riyadh bbox\n",
    "coord_rd = [[46.4328690955,24.1659202907],[46.6345003059,25.4285645773],[47.5182109888,25.2818982646],\n",
    "             [47.5209967609,24.1956804525],[46.4328690955,24.1659202907]] #riyad polygon\n",
    "\n",
    "coords = coords_jd\n",
    "\n",
    "buffered_coords = add_degree_buffer_to_coords(coords, 0.2)\n",
    "bbox = ee.Geometry.BBox(*buffered_coords) \n",
    "bbox = ee.Geometry.Polygon([coord_rd])"
   ]
  },
  {
   "cell_type": "code",
   "execution_count": 58,
   "id": "7d721b21-eace-45a0-86f1-d2ffabb0f9ff",
   "metadata": {},
   "outputs": [
    {
     "data": {
      "text/html": [
       "\n",
       "            <style>\n",
       "                .geemap-dark {\n",
       "                    --jp-widgets-color: white;\n",
       "                    --jp-widgets-label-color: white;\n",
       "                    --jp-ui-font-color1: white;\n",
       "                    --jp-layout-color2: #454545;\n",
       "                    background-color: #383838;\n",
       "                }\n",
       "\n",
       "                .geemap-dark .jupyter-button {\n",
       "                    --jp-layout-color3: #383838;\n",
       "                }\n",
       "\n",
       "                .geemap-colab {\n",
       "                    background-color: var(--colab-primary-surface-color, white);\n",
       "                }\n",
       "\n",
       "                .geemap-colab .jupyter-button {\n",
       "                    --jp-layout-color3: var(--colab-primary-surface-color, white);\n",
       "                }\n",
       "            </style>\n",
       "            "
      ],
      "text/plain": [
       "<IPython.core.display.HTML object>"
      ]
     },
     "metadata": {},
     "output_type": "display_data"
    }
   ],
   "source": [
    "#get Data: Landsat \n",
    "# Landsat collections (T1 = Tier 1 Surface Reflectance where available)\n",
    "landsat1 = ee.ImageCollection(\"LANDSAT/LM01/C02/T1\")\n",
    "landsat2 = ee.ImageCollection(\"LANDSAT/LM02/C02/T1\")\n",
    "landsat3 = ee.ImageCollection(\"LANDSAT/LM03/C02/T1\")\n",
    "landsat4 = ee.ImageCollection(\"LANDSAT/LT04/C02/T1_L2\")\n",
    "landsat5 = ee.ImageCollection(\"LANDSAT/LT05/C02/T1_L2\")\n",
    "landsat7 = ee.ImageCollection(\"LANDSAT/LE07/C02/T1_L2\")\n",
    "landsat8 = ee.ImageCollection(\"LANDSAT/LC08/C02/T1_L2\")\n",
    "\n",
    "# Merge Landsat collections based on sensors\n",
    "landsat_1_3 = landsat1.merge(landsat2).merge(landsat3).filterBounds(bbox).sort(\"DATE_ACQUIRED\")\n",
    "landsat_4_7 = landsat4.merge(landsat5).merge(landsat7).filterBounds(bbox).sort(\"DATE_ACQUIRED\")\n",
    "landsat8 = landsat8.filterBounds(bbox).sort(\"DATE_ACQUIRED\")\n",
    "\n",
    "#Makka\n",
    "#WRS_PATH = 169\n",
    "#WRS_ROW = 45\n",
    "#Jeddah\n",
    "#WRS_PATH = 170\n",
    "#WRS_ROW = 45\n",
    "#riyadh\n",
    "WRS_PATH = 165\n",
    "WRS_ROW = 43\n",
    "landsat_1_3 = landsat_1_3.filter(ee.Filter.And(ee.Filter.eq('WRS_PATH', WRS_PATH),ee.Filter.eq('WRS_ROW', WRS_ROW))).map(lambda img: img.clip(bbox))\n",
    "landsat_4_7 = landsat_4_7.filter(ee.Filter.And(ee.Filter.eq('WRS_PATH', WRS_PATH),ee.Filter.eq('WRS_ROW', WRS_ROW))).map(lambda img: img.clip(bbox))\n",
    "landsat8    = landsat8.filter(ee.Filter.And(ee.Filter.eq('WRS_PATH', WRS_PATH),ee.Filter.eq('WRS_ROW', WRS_ROW))).map(lambda img: img.clip(bbox))\n",
    "\n",
    "#apply processing for cloud mask and rename bands\n",
    "landsat_4_7 = landsat_4_7.map(maskL457sr).map(rescaleL457sr).map(renameL457)\n",
    "landsat8 = landsat8.map(maskL8sr).map(rescaleL8sr).map(renameL8sr)\n",
    "#merge landsat data sets \n",
    "landsat = landsat_4_7.merge(landsat8)\n",
    "\n",
    "#apply diffent indices \n",
    "landsat_indexed = landsat.map(apply_indices)\n",
    "\n",
    "#Add LST\n",
    "landsat_indexed = landsat_indexed.map(add_lst)"
   ]
  },
  {
   "cell_type": "code",
   "execution_count": 59,
   "id": "7634c926-e248-489d-aedc-66759bbd7357",
   "metadata": {},
   "outputs": [
    {
     "data": {
      "text/html": [
       "\n",
       "            <style>\n",
       "                .geemap-dark {\n",
       "                    --jp-widgets-color: white;\n",
       "                    --jp-widgets-label-color: white;\n",
       "                    --jp-ui-font-color1: white;\n",
       "                    --jp-layout-color2: #454545;\n",
       "                    background-color: #383838;\n",
       "                }\n",
       "\n",
       "                .geemap-dark .jupyter-button {\n",
       "                    --jp-layout-color3: #383838;\n",
       "                }\n",
       "\n",
       "                .geemap-colab {\n",
       "                    background-color: var(--colab-primary-surface-color, white);\n",
       "                }\n",
       "\n",
       "                .geemap-colab .jupyter-button {\n",
       "                    --jp-layout-color3: var(--colab-primary-surface-color, white);\n",
       "                }\n",
       "            </style>\n",
       "            "
      ],
      "text/plain": [
       "<IPython.core.display.HTML object>"
      ]
     },
     "metadata": {},
     "output_type": "display_data"
    }
   ],
   "source": [
    "exclude_ids = ['1_1_2_LT05_170045_19871122', '1_1_2_LT05_170045_19881226', '2_LC08_170045_20160801', '1_1_2_LT05_169045_19960312', \n",
    "               '2_LC08_169045_20200720', '1_1_2_LT05_169045_19840903', '2_LC08_169045_20220115', '1_2_LE07_165043_20190511', \n",
    "               '1_1_2_LT05_170045_19970202', '1_2_LE07_170045_20230410']\n",
    "landsat_indexed = landsat_indexed.filter(ee.Filter.inList('system:index', exclude_ids).Not())\n"
   ]
  },
  {
   "cell_type": "code",
   "execution_count": 60,
   "id": "12c226a6-ec8b-405b-a9f0-7d2e7cd5c957",
   "metadata": {},
   "outputs": [
    {
     "data": {
      "text/html": [
       "\n",
       "            <style>\n",
       "                .geemap-dark {\n",
       "                    --jp-widgets-color: white;\n",
       "                    --jp-widgets-label-color: white;\n",
       "                    --jp-ui-font-color1: white;\n",
       "                    --jp-layout-color2: #454545;\n",
       "                    background-color: #383838;\n",
       "                }\n",
       "\n",
       "                .geemap-dark .jupyter-button {\n",
       "                    --jp-layout-color3: #383838;\n",
       "                }\n",
       "\n",
       "                .geemap-colab {\n",
       "                    background-color: var(--colab-primary-surface-color, white);\n",
       "                }\n",
       "\n",
       "                .geemap-colab .jupyter-button {\n",
       "                    --jp-layout-color3: var(--colab-primary-surface-color, white);\n",
       "                }\n",
       "            </style>\n",
       "            "
      ],
      "text/plain": [
       "<IPython.core.display.HTML object>"
      ]
     },
     "metadata": {},
     "output_type": "display_data"
    },
    {
     "data": {
      "text/plain": [
       "'\\n# also include all cells within the cite \\n# Define city center (example: Riyadh)\\ncity_center = ee.Geometry.Point([46.6753, 24.7136])  \\n# Create a 30 km buffer\\nbuffer_km = 30 * 1000  # meters\\nurban_buffer = city_center.buffer(buffer_km)\\n# Create a mask of pixels within the buffer\\nurban_buffer_mask = ee.Image.constant(1).clip(urban_buffer).rename(\"urban_buffer\")\\n# Combine with your existing urban mask (from GHSL or other source)\\n# Assuming `urban_mask` is your binary mask (1 = urban, 0 = non-urban)\\n# If not already binary, make sure to threshold your GHSL properly before this\\n# Combine masks: 1 if either mask is urban\\ncombined_urban_mask = urban_mask.max(urban_buffer_mask)\\n# Visualize \\nurban_vis = {\\n    \\'min\\': 0,\\n    \\'max\\': 1,\\n    \\'palette\\': [\\'white\\', \\'red\\']\\n}\\nMap = geemap.Map(center=[24.6, 46.7], zoom=8)\\nMap.centerObject(city_center, 10)\\nMap.addLayer(combined_urban_mask, urban_vis, \\'Extended Urban Mask\\')\\nMap\\n'"
      ]
     },
     "execution_count": 60,
     "metadata": {},
     "output_type": "execute_result"
    }
   ],
   "source": [
    "# get urban mask \n",
    "ghsl = ee.ImageCollection(\"JRC/GHSL/P2023A/GHS_BUILT_S\").select(\"built_surface\")\n",
    "available_years = ee.List([1975, 1980, 1985, 1990, 1995, 2000, 2005, 2010, 2015, 2020, 2025, 2030])\n",
    "# Function to find the nearest available GHSL year\n",
    "def get_nearest_year(target_year):\n",
    "    def reducer(closest, current):\n",
    "        closest = ee.Number(closest)\n",
    "        current = ee.Number(current)\n",
    "        closest_diff = target_year.subtract(closest).abs()\n",
    "        current_diff = target_year.subtract(current).abs()\n",
    "        return ee.Algorithms.If(current_diff.lt(closest_diff), current, closest)\n",
    "    \n",
    "    return ee.Number(available_years.iterate(reducer, available_years.get(0)))\n",
    "# Function to get GHSL image for nearest year\n",
    "def get_nearest_ghsl_image(date):\n",
    "    year = ee.Date(date).get('year')\n",
    "    closest_year = get_nearest_year(year)\n",
    "    return ghsl.filter(ee.Filter.calendarRange(closest_year, closest_year, 'year')).first()\n",
    "# Function to add urban mask band\n",
    "def add_urban_mask(img):\n",
    "    ghsl_img = get_nearest_ghsl_image(img.date())\n",
    "    urban_mask = ghsl_img.select('built_surface').gt(500).rename('urban_mask').clip(bbox)  # Built-up area 500 m^2 \n",
    "    return img.addBands(urban_mask)\n",
    "# Apply to collection\n",
    "landsat_indexed = landsat_indexed.map(add_urban_mask)\n",
    "\n",
    "'''\n",
    "# also include all cells within the cite \n",
    "# Define city center (example: Riyadh)\n",
    "city_center = ee.Geometry.Point([46.6753, 24.7136])  \n",
    "# Create a 30 km buffer\n",
    "buffer_km = 30 * 1000  # meters\n",
    "urban_buffer = city_center.buffer(buffer_km)\n",
    "# Create a mask of pixels within the buffer\n",
    "urban_buffer_mask = ee.Image.constant(1).clip(urban_buffer).rename(\"urban_buffer\")\n",
    "# Combine with your existing urban mask (from GHSL or other source)\n",
    "# Assuming `urban_mask` is your binary mask (1 = urban, 0 = non-urban)\n",
    "# If not already binary, make sure to threshold your GHSL properly before this\n",
    "# Combine masks: 1 if either mask is urban\n",
    "combined_urban_mask = urban_mask.max(urban_buffer_mask)\n",
    "# Visualize \n",
    "urban_vis = {\n",
    "    'min': 0,\n",
    "    'max': 1,\n",
    "    'palette': ['white', 'red']\n",
    "}\n",
    "Map = geemap.Map(center=[24.6, 46.7], zoom=8)\n",
    "Map.centerObject(city_center, 10)\n",
    "Map.addLayer(combined_urban_mask, urban_vis, 'Extended Urban Mask')\n",
    "Map\n",
    "'''"
   ]
  },
  {
   "cell_type": "code",
   "execution_count": 42,
   "id": "002f1a24-f134-424f-af8e-9b7992dd3cff",
   "metadata": {
    "scrolled": true
   },
   "outputs": [
    {
     "data": {
      "text/html": [
       "\n",
       "            <style>\n",
       "                .geemap-dark {\n",
       "                    --jp-widgets-color: white;\n",
       "                    --jp-widgets-label-color: white;\n",
       "                    --jp-ui-font-color1: white;\n",
       "                    --jp-layout-color2: #454545;\n",
       "                    background-color: #383838;\n",
       "                }\n",
       "\n",
       "                .geemap-dark .jupyter-button {\n",
       "                    --jp-layout-color3: #383838;\n",
       "                }\n",
       "\n",
       "                .geemap-colab {\n",
       "                    background-color: var(--colab-primary-surface-color, white);\n",
       "                }\n",
       "\n",
       "                .geemap-colab .jupyter-button {\n",
       "                    --jp-layout-color3: var(--colab-primary-surface-color, white);\n",
       "                }\n",
       "            </style>\n",
       "            "
      ],
      "text/plain": [
       "<IPython.core.display.HTML object>"
      ]
     },
     "metadata": {},
     "output_type": "display_data"
    },
    {
     "data": {
      "application/vnd.jupyter.widget-view+json": {
       "model_id": "a391fa5debc8447fb8e4ee9b07c4b008",
       "version_major": 2,
       "version_minor": 0
      },
      "text/plain": [
       "Map(center=[21.580839758630017, 39.16536120000002], controls=(WidgetControl(options=['position', 'transparent_…"
      ]
     },
     "execution_count": 42,
     "metadata": {},
     "output_type": "execute_result"
    }
   ],
   "source": [
    "# Print a sample image with the mask\n",
    "sample = landsat_indexed.first().clip(bbox)\n",
    "Map = geemap.Map(center=[24.6, 46.7], zoom=8)\n",
    "Map.addLayer(sample.select('urban_mask'))\n",
    "Map.centerObject(sample, 10)\n",
    "Map"
   ]
  },
  {
   "cell_type": "code",
   "execution_count": 36,
   "id": "eea72694-a2d8-4fb1-ab1e-062ce7eb147d",
   "metadata": {},
   "outputs": [
    {
     "data": {
      "text/html": [
       "\n",
       "            <style>\n",
       "                .geemap-dark {\n",
       "                    --jp-widgets-color: white;\n",
       "                    --jp-widgets-label-color: white;\n",
       "                    --jp-ui-font-color1: white;\n",
       "                    --jp-layout-color2: #454545;\n",
       "                    background-color: #383838;\n",
       "                }\n",
       "\n",
       "                .geemap-dark .jupyter-button {\n",
       "                    --jp-layout-color3: #383838;\n",
       "                }\n",
       "\n",
       "                .geemap-colab {\n",
       "                    background-color: var(--colab-primary-surface-color, white);\n",
       "                }\n",
       "\n",
       "                .geemap-colab .jupyter-button {\n",
       "                    --jp-layout-color3: var(--colab-primary-surface-color, white);\n",
       "                }\n",
       "            </style>\n",
       "            "
      ],
      "text/plain": [
       "<IPython.core.display.HTML object>"
      ]
     },
     "metadata": {},
     "output_type": "display_data"
    },
    {
     "name": "stdout",
     "output_type": "stream",
     "text": [
      "Urban mask value distribution: {'urban_mask': {'0': 3913082.5647058827, '1': 372771.02352941176}}\n"
     ]
    }
   ],
   "source": [
    "# Print a histogram of urban_mask values over a region\n",
    "stats = sample.select('urban_mask').reduceRegion(\n",
    "    reducer=ee.Reducer.frequencyHistogram(),\n",
    "    geometry=sample.geometry(),\n",
    "    scale=30,  # Match your image resolution\n",
    "    maxPixels=1e9\n",
    ")\n",
    "\n",
    "print(\"Urban mask value distribution:\", stats.getInfo())\n"
   ]
  },
  {
   "cell_type": "code",
   "execution_count": 61,
   "id": "f2416b5c-c7bc-44c9-a09e-720e997dc8a2",
   "metadata": {},
   "outputs": [
    {
     "data": {
      "text/html": [
       "\n",
       "            <style>\n",
       "                .geemap-dark {\n",
       "                    --jp-widgets-color: white;\n",
       "                    --jp-widgets-label-color: white;\n",
       "                    --jp-ui-font-color1: white;\n",
       "                    --jp-layout-color2: #454545;\n",
       "                    background-color: #383838;\n",
       "                }\n",
       "\n",
       "                .geemap-dark .jupyter-button {\n",
       "                    --jp-layout-color3: #383838;\n",
       "                }\n",
       "\n",
       "                .geemap-colab {\n",
       "                    background-color: var(--colab-primary-surface-color, white);\n",
       "                }\n",
       "\n",
       "                .geemap-colab .jupyter-button {\n",
       "                    --jp-layout-color3: var(--colab-primary-surface-color, white);\n",
       "                }\n",
       "            </style>\n",
       "            "
      ],
      "text/plain": [
       "<IPython.core.display.HTML object>"
      ]
     },
     "metadata": {},
     "output_type": "display_data"
    }
   ],
   "source": [
    "#SUHI as property to image collection \n",
    "# similar to https://www.sciencedirect.com/science/article/pii/S1364682620301851 \n",
    "def compute_suhi(image):\n",
    "    urban_mask = image.select('urban_mask')\n",
    "    \n",
    "    # Apply masks\n",
    "    urban_temp = image.select('LST').updateMask(urban_mask)\n",
    "    nonurban_temp = image.select('LST').updateMask(urban_mask.Not())\n",
    "\n",
    "    # Compute means\n",
    "    urban_mean = urban_temp.reduceRegion(\n",
    "        reducer=ee.Reducer.mean(),\n",
    "        geometry=image.geometry(),\n",
    "        scale=30,\n",
    "        maxPixels=1e13\n",
    "    ).get('LST')\n",
    "\n",
    "    nonurban_mean = nonurban_temp.reduceRegion(\n",
    "        reducer=ee.Reducer.mean(),\n",
    "        geometry=image.geometry(),\n",
    "        scale=30,\n",
    "        maxPixels=1e13\n",
    "    ).get('LST')\n",
    "\n",
    "    # Compute SUHI\n",
    "    suhi = ee.Number(urban_mean).subtract(ee.Number(nonurban_mean))\n",
    "\n",
    "    # Attach SUHI as a new property\n",
    "    return image.set({'SUHI': suhi})\n",
    "#add SUHI as metadata to landsat indexed    \n",
    "landsat_suhi = landsat_indexed.map(compute_suhi)\n",
    "#or just create a feature collection \n",
    "suhi_fc = landsat_indexed.map(compute_suhi).map(lambda img: ee.Feature(None, {\n",
    "    'date': img.date().format('YYYY-MM-dd'),\n",
    "    'SUHI': img.get('SUHI')\n",
    "}))\n"
   ]
  },
  {
   "cell_type": "code",
   "execution_count": 54,
   "id": "459e3fa7-e087-41dc-9b07-5ba877f42113",
   "metadata": {},
   "outputs": [
    {
     "data": {
      "text/html": [
       "\n",
       "            <style>\n",
       "                .geemap-dark {\n",
       "                    --jp-widgets-color: white;\n",
       "                    --jp-widgets-label-color: white;\n",
       "                    --jp-ui-font-color1: white;\n",
       "                    --jp-layout-color2: #454545;\n",
       "                    background-color: #383838;\n",
       "                }\n",
       "\n",
       "                .geemap-dark .jupyter-button {\n",
       "                    --jp-layout-color3: #383838;\n",
       "                }\n",
       "\n",
       "                .geemap-colab {\n",
       "                    background-color: var(--colab-primary-surface-color, white);\n",
       "                }\n",
       "\n",
       "                .geemap-colab .jupyter-button {\n",
       "                    --jp-layout-color3: var(--colab-primary-surface-color, white);\n",
       "                }\n",
       "            </style>\n",
       "            "
      ],
      "text/plain": [
       "<IPython.core.display.HTML object>"
      ]
     },
     "metadata": {},
     "output_type": "display_data"
    }
   ],
   "source": [
    "#Turn the property into a csv table \n",
    "\n",
    "def fc_to_array_batched(fc, properties, chunk_size=40, sleep_time=5):\n",
    "    n = fc.size().getInfo()\n",
    "    num_chunks = math.ceil(n / chunk_size)\n",
    "    all_data = []\n",
    "\n",
    "    for i in range(num_chunks):\n",
    "        print(f\"Fetching batch {i+1}/{num_chunks}\")\n",
    "        batch_fc = ee.FeatureCollection(fc.toList(chunk_size, i * chunk_size))\n",
    "\n",
    "        # Map to Features with only desired properties\n",
    "        def extract_props(feat):\n",
    "            return ee.Feature(None, {key: feat.get(key) for key in properties})\n",
    "\n",
    "        batch_props_fc = batch_fc.map(extract_props)\n",
    "\n",
    "        # Get the list of Features in this batch\n",
    "        features_list = batch_props_fc.toList(batch_fc.size())\n",
    "\n",
    "        try:\n",
    "            # GetInfo on the list to bring it client-side\n",
    "            features_client = features_list.getInfo()\n",
    "\n",
    "            # For each feature, extract the properties\n",
    "            for feat in features_client:\n",
    "                props = feat['properties']\n",
    "                all_data.append({key: props.get(key) for key in properties})\n",
    "\n",
    "        except Exception as e:\n",
    "            print(f\"Batch {i+1} failed: {e}\")\n",
    "            continue\n",
    "\n",
    "        time.sleep(sleep_time)\n",
    "\n",
    "    df = pd.DataFrame(all_data)\n",
    "    return df, df[properties].dropna().to_numpy()\n"
   ]
  },
  {
   "cell_type": "code",
   "execution_count": 62,
   "id": "eaad5bb7-86d2-40f5-9128-c1d0d0edc423",
   "metadata": {},
   "outputs": [
    {
     "data": {
      "text/html": [
       "\n",
       "            <style>\n",
       "                .geemap-dark {\n",
       "                    --jp-widgets-color: white;\n",
       "                    --jp-widgets-label-color: white;\n",
       "                    --jp-ui-font-color1: white;\n",
       "                    --jp-layout-color2: #454545;\n",
       "                    background-color: #383838;\n",
       "                }\n",
       "\n",
       "                .geemap-dark .jupyter-button {\n",
       "                    --jp-layout-color3: #383838;\n",
       "                }\n",
       "\n",
       "                .geemap-colab {\n",
       "                    background-color: var(--colab-primary-surface-color, white);\n",
       "                }\n",
       "\n",
       "                .geemap-colab .jupyter-button {\n",
       "                    --jp-layout-color3: var(--colab-primary-surface-color, white);\n",
       "                }\n",
       "            </style>\n",
       "            "
      ],
      "text/plain": [
       "<IPython.core.display.HTML object>"
      ]
     },
     "metadata": {},
     "output_type": "display_data"
    },
    {
     "name": "stdout",
     "output_type": "stream",
     "text": [
      "Fetching batch 1/34\n",
      "Batch 1 failed: Collection.toList: Error in map(ID=1_1_2_LT05_165043_19850505):\n",
      "Image.constant: Parameter 'value' is required and may not be null.\n",
      "Fetching batch 2/34\n",
      "Batch 2 failed: Collection.toList: Error in map(ID=1_1_2_LT05_165043_19850505):\n",
      "Number.subtract: Parameter 'left' is required and may not be null.\n",
      "Fetching batch 3/34\n",
      "Batch 3 failed: Collection.toList: Error in map(ID=1_1_2_LT05_165043_19850505):\n",
      "Image.constant: Parameter 'value' is required and may not be null.\n",
      "Fetching batch 4/34\n",
      "Batch 4 failed: Collection.toList: Error in map(ID=1_1_2_LT05_165043_19850505):\n",
      "Image.constant: Parameter 'value' is required and may not be null.\n",
      "Fetching batch 5/34\n",
      "Batch 5 failed: Collection.toList: Error in map(ID=1_1_2_LT05_165043_19850505):\n",
      "Image.constant: Parameter 'value' is required and may not be null.\n",
      "Fetching batch 6/34\n",
      "Batch 6 failed: Collection.toList: Error in map(ID=1_1_2_LT05_165043_19850505):\n",
      "Image.constant: Parameter 'value' is required and may not be null.\n",
      "Fetching batch 7/34\n",
      "Batch 7 failed: Collection.toList: Error in map(ID=1_1_2_LT05_165043_19850505):\n",
      "Number.subtract: Parameter 'left' is required and may not be null.\n",
      "Fetching batch 8/34\n",
      "Batch 8 failed: Collection.toList: Error in map(ID=1_1_2_LT05_165043_19850505):\n",
      "Image.constant: Parameter 'value' is required and may not be null.\n",
      "Fetching batch 9/34\n",
      "Batch 9 failed: Collection.toList: Error in map(ID=1_1_2_LT05_165043_19850505):\n",
      "Number.subtract: Parameter 'left' is required and may not be null.\n",
      "Fetching batch 10/34\n",
      "Batch 10 failed: Collection.toList: Error in map(ID=1_1_2_LT05_165043_19850505):\n",
      "Image.constant: Parameter 'value' is required and may not be null.\n",
      "Fetching batch 11/34\n",
      "Batch 11 failed: Collection.toList: Error in map(ID=1_1_2_LT05_165043_19850505):\n",
      "Number.subtract: Parameter 'left' is required and may not be null.\n",
      "Fetching batch 12/34\n",
      "Batch 12 failed: Collection.toList: Error in map(ID=1_1_2_LT05_165043_19850505):\n",
      "Number.subtract: Parameter 'left' is required and may not be null.\n",
      "Fetching batch 13/34\n",
      "Batch 13 failed: Collection.toList: Error in map(ID=1_1_2_LT05_165043_19850505):\n",
      "Number.subtract: Parameter 'left' is required and may not be null.\n",
      "Fetching batch 14/34\n",
      "Batch 14 failed: Collection.toList: Error in map(ID=1_1_2_LT05_165043_19850505):\n",
      "Number.subtract: Parameter 'left' is required and may not be null.\n",
      "Fetching batch 15/34\n",
      "Batch 15 failed: Collection.toList: Error in map(ID=1_1_2_LT05_165043_19850505):\n",
      "Image.constant: Parameter 'value' is required and may not be null.\n",
      "Fetching batch 16/34\n",
      "Batch 16 failed: Collection.toList: Error in map(ID=1_1_2_LT05_165043_19850505):\n",
      "Image.constant: Parameter 'value' is required and may not be null.\n",
      "Fetching batch 17/34\n",
      "Batch 17 failed: Collection.toList: Error in map(ID=1_1_2_LT05_165043_19850505):\n",
      "Image.constant: Parameter 'value' is required and may not be null.\n",
      "Fetching batch 18/34\n",
      "Batch 18 failed: Collection.toList: Error in map(ID=1_1_2_LT05_165043_19850505):\n",
      "Number.subtract: Parameter 'left' is required and may not be null.\n",
      "Fetching batch 19/34\n",
      "Batch 19 failed: Collection.toList: Error in map(ID=1_1_2_LT05_165043_19850505):\n",
      "Number.subtract: Parameter 'left' is required and may not be null.\n",
      "Fetching batch 20/34\n",
      "Batch 20 failed: Collection.toList: Error in map(ID=1_1_2_LT05_165043_19850505):\n",
      "Number.subtract: Parameter 'left' is required and may not be null.\n",
      "Fetching batch 21/34\n",
      "Batch 21 failed: Collection.toList: Error in map(ID=1_1_2_LT05_165043_19850505):\n",
      "Number.subtract: Parameter 'left' is required and may not be null.\n",
      "Fetching batch 22/34\n",
      "Batch 22 failed: Collection.toList: Error in map(ID=1_1_2_LT05_165043_19850505):\n",
      "Number.subtract: Parameter 'left' is required and may not be null.\n",
      "Fetching batch 23/34\n",
      "Batch 23 failed: Collection.toList: Error in map(ID=1_1_2_LT05_165043_19850505):\n",
      "Number.subtract: Parameter 'left' is required and may not be null.\n",
      "Fetching batch 24/34\n",
      "Batch 24 failed: Collection.toList: Error in map(ID=1_1_2_LT05_165043_19850505):\n",
      "Number.subtract: Parameter 'left' is required and may not be null.\n",
      "Fetching batch 25/34\n",
      "Batch 25 failed: Collection.toList: Error in map(ID=1_1_2_LT05_165043_19850505):\n",
      "Number.subtract: Parameter 'left' is required and may not be null.\n",
      "Fetching batch 26/34\n",
      "Batch 26 failed: Collection.toList: Error in map(ID=1_1_2_LT05_165043_19850505):\n",
      "Number.subtract: Parameter 'left' is required and may not be null.\n",
      "Fetching batch 27/34\n",
      "Batch 27 failed: Collection.toList: Error in map(ID=1_1_2_LT05_165043_19850505):\n",
      "Image.constant: Parameter 'value' is required and may not be null.\n",
      "Fetching batch 28/34\n",
      "Batch 28 failed: Collection.toList: Error in map(ID=1_1_2_LT05_165043_19850505):\n",
      "Number.subtract: Parameter 'left' is required and may not be null.\n",
      "Fetching batch 29/34\n",
      "Batch 29 failed: Collection.toList: Error in map(ID=1_1_2_LT05_165043_19850505):\n",
      "Number.subtract: Parameter 'left' is required and may not be null.\n",
      "Fetching batch 30/34\n",
      "Batch 30 failed: Collection.toList: Error in map(ID=1_1_2_LT05_165043_19850505):\n",
      "Number.subtract: Parameter 'left' is required and may not be null.\n",
      "Fetching batch 31/34\n",
      "Batch 31 failed: Collection.toList: Error in map(ID=1_1_2_LT05_165043_19850505):\n",
      "Image.constant: Parameter 'value' is required and may not be null.\n",
      "Fetching batch 32/34\n",
      "Batch 32 failed: Collection.toList: Error in map(ID=1_1_2_LT05_165043_19850505):\n",
      "Image.constant: Parameter 'value' is required and may not be null.\n",
      "Fetching batch 33/34\n",
      "Batch 33 failed: Collection.toList: Error in map(ID=1_1_2_LT05_165043_19850505):\n",
      "Number.subtract: Parameter 'left' is required and may not be null.\n",
      "Fetching batch 34/34\n",
      "Batch 34 failed: Collection.toList: Error in map(ID=1_1_2_LT05_165043_19850505):\n",
      "Number.subtract: Parameter 'left' is required and may not be null.\n"
     ]
    },
    {
     "ename": "KeyError",
     "evalue": "\"None of [Index(['DATE_ACQUIRED', 'SUHI'], dtype='object')] are in the [columns]\"",
     "output_type": "error",
     "traceback": [
      "\u001b[0;31m---------------------------------------------------------------------------\u001b[0m",
      "\u001b[0;31mKeyError\u001b[0m                                  Traceback (most recent call last)",
      "Cell \u001b[0;32mIn[62], line 3\u001b[0m\n\u001b[1;32m      1\u001b[0m properties \u001b[38;5;241m=\u001b[39m [\u001b[38;5;124m'\u001b[39m\u001b[38;5;124mDATE_ACQUIRED\u001b[39m\u001b[38;5;124m'\u001b[39m, \u001b[38;5;124m'\u001b[39m\u001b[38;5;124mSUHI\u001b[39m\u001b[38;5;124m'\u001b[39m]\n\u001b[1;32m      2\u001b[0m \u001b[38;5;66;03m# Convert to DataFrame and NumPy array\u001b[39;00m\n\u001b[0;32m----> 3\u001b[0m df_suhi, suhi_array \u001b[38;5;241m=\u001b[39m \u001b[43mfc_to_array_batched\u001b[49m\u001b[43m(\u001b[49m\u001b[43mlandsat_suhi\u001b[49m\u001b[43m,\u001b[49m\u001b[43m \u001b[49m\u001b[43mproperties\u001b[49m\u001b[43m,\u001b[49m\u001b[43m \u001b[49m\u001b[43mchunk_size\u001b[49m\u001b[38;5;241;43m=\u001b[39;49m\u001b[38;5;241;43m30\u001b[39;49m\u001b[43m,\u001b[49m\u001b[43m \u001b[49m\u001b[43msleep_time\u001b[49m\u001b[38;5;241;43m=\u001b[39;49m\u001b[38;5;241;43m10\u001b[39;49m\u001b[43m)\u001b[49m\n\u001b[1;32m      4\u001b[0m \u001b[38;5;66;03m# Save as CSV\u001b[39;00m\n\u001b[1;32m      5\u001b[0m df_suhi\u001b[38;5;241m.\u001b[39mto_csv(\u001b[38;5;124m\"\u001b[39m\u001b[38;5;124msuhi_timeseries_rd.csv\u001b[39m\u001b[38;5;124m\"\u001b[39m)\n",
      "Cell \u001b[0;32mIn[54], line 37\u001b[0m, in \u001b[0;36mfc_to_array_batched\u001b[0;34m(fc, properties, chunk_size, sleep_time)\u001b[0m\n\u001b[1;32m     34\u001b[0m     time\u001b[38;5;241m.\u001b[39msleep(sleep_time)\n\u001b[1;32m     36\u001b[0m df \u001b[38;5;241m=\u001b[39m pd\u001b[38;5;241m.\u001b[39mDataFrame(all_data)\n\u001b[0;32m---> 37\u001b[0m \u001b[38;5;28;01mreturn\u001b[39;00m df, \u001b[43mdf\u001b[49m\u001b[43m[\u001b[49m\u001b[43mproperties\u001b[49m\u001b[43m]\u001b[49m\u001b[38;5;241m.\u001b[39mdropna()\u001b[38;5;241m.\u001b[39mto_numpy()\n",
      "File \u001b[0;32m~/.local/lib/python3.8/site-packages/pandas/core/frame.py:3767\u001b[0m, in \u001b[0;36mDataFrame.__getitem__\u001b[0;34m(self, key)\u001b[0m\n\u001b[1;32m   3765\u001b[0m     \u001b[38;5;28;01mif\u001b[39;00m is_iterator(key):\n\u001b[1;32m   3766\u001b[0m         key \u001b[38;5;241m=\u001b[39m \u001b[38;5;28mlist\u001b[39m(key)\n\u001b[0;32m-> 3767\u001b[0m     indexer \u001b[38;5;241m=\u001b[39m \u001b[38;5;28;43mself\u001b[39;49m\u001b[38;5;241;43m.\u001b[39;49m\u001b[43mcolumns\u001b[49m\u001b[38;5;241;43m.\u001b[39;49m\u001b[43m_get_indexer_strict\u001b[49m\u001b[43m(\u001b[49m\u001b[43mkey\u001b[49m\u001b[43m,\u001b[49m\u001b[43m \u001b[49m\u001b[38;5;124;43m\"\u001b[39;49m\u001b[38;5;124;43mcolumns\u001b[39;49m\u001b[38;5;124;43m\"\u001b[39;49m\u001b[43m)\u001b[49m[\u001b[38;5;241m1\u001b[39m]\n\u001b[1;32m   3769\u001b[0m \u001b[38;5;66;03m# take() does not accept boolean indexers\u001b[39;00m\n\u001b[1;32m   3770\u001b[0m \u001b[38;5;28;01mif\u001b[39;00m \u001b[38;5;28mgetattr\u001b[39m(indexer, \u001b[38;5;124m\"\u001b[39m\u001b[38;5;124mdtype\u001b[39m\u001b[38;5;124m\"\u001b[39m, \u001b[38;5;28;01mNone\u001b[39;00m) \u001b[38;5;241m==\u001b[39m \u001b[38;5;28mbool\u001b[39m:\n",
      "File \u001b[0;32m~/.local/lib/python3.8/site-packages/pandas/core/indexes/base.py:5877\u001b[0m, in \u001b[0;36mIndex._get_indexer_strict\u001b[0;34m(self, key, axis_name)\u001b[0m\n\u001b[1;32m   5874\u001b[0m \u001b[38;5;28;01melse\u001b[39;00m:\n\u001b[1;32m   5875\u001b[0m     keyarr, indexer, new_indexer \u001b[38;5;241m=\u001b[39m \u001b[38;5;28mself\u001b[39m\u001b[38;5;241m.\u001b[39m_reindex_non_unique(keyarr)\n\u001b[0;32m-> 5877\u001b[0m \u001b[38;5;28;43mself\u001b[39;49m\u001b[38;5;241;43m.\u001b[39;49m\u001b[43m_raise_if_missing\u001b[49m\u001b[43m(\u001b[49m\u001b[43mkeyarr\u001b[49m\u001b[43m,\u001b[49m\u001b[43m \u001b[49m\u001b[43mindexer\u001b[49m\u001b[43m,\u001b[49m\u001b[43m \u001b[49m\u001b[43maxis_name\u001b[49m\u001b[43m)\u001b[49m\n\u001b[1;32m   5879\u001b[0m keyarr \u001b[38;5;241m=\u001b[39m \u001b[38;5;28mself\u001b[39m\u001b[38;5;241m.\u001b[39mtake(indexer)\n\u001b[1;32m   5880\u001b[0m \u001b[38;5;28;01mif\u001b[39;00m \u001b[38;5;28misinstance\u001b[39m(key, Index):\n\u001b[1;32m   5881\u001b[0m     \u001b[38;5;66;03m# GH 42790 - Preserve name from an Index\u001b[39;00m\n",
      "File \u001b[0;32m~/.local/lib/python3.8/site-packages/pandas/core/indexes/base.py:5938\u001b[0m, in \u001b[0;36mIndex._raise_if_missing\u001b[0;34m(self, key, indexer, axis_name)\u001b[0m\n\u001b[1;32m   5936\u001b[0m     \u001b[38;5;28;01mif\u001b[39;00m use_interval_msg:\n\u001b[1;32m   5937\u001b[0m         key \u001b[38;5;241m=\u001b[39m \u001b[38;5;28mlist\u001b[39m(key)\n\u001b[0;32m-> 5938\u001b[0m     \u001b[38;5;28;01mraise\u001b[39;00m \u001b[38;5;167;01mKeyError\u001b[39;00m(\u001b[38;5;124mf\u001b[39m\u001b[38;5;124m\"\u001b[39m\u001b[38;5;124mNone of [\u001b[39m\u001b[38;5;132;01m{\u001b[39;00mkey\u001b[38;5;132;01m}\u001b[39;00m\u001b[38;5;124m] are in the [\u001b[39m\u001b[38;5;132;01m{\u001b[39;00maxis_name\u001b[38;5;132;01m}\u001b[39;00m\u001b[38;5;124m]\u001b[39m\u001b[38;5;124m\"\u001b[39m)\n\u001b[1;32m   5940\u001b[0m not_found \u001b[38;5;241m=\u001b[39m \u001b[38;5;28mlist\u001b[39m(ensure_index(key)[missing_mask\u001b[38;5;241m.\u001b[39mnonzero()[\u001b[38;5;241m0\u001b[39m]]\u001b[38;5;241m.\u001b[39munique())\n\u001b[1;32m   5941\u001b[0m \u001b[38;5;28;01mraise\u001b[39;00m \u001b[38;5;167;01mKeyError\u001b[39;00m(\u001b[38;5;124mf\u001b[39m\u001b[38;5;124m\"\u001b[39m\u001b[38;5;132;01m{\u001b[39;00mnot_found\u001b[38;5;132;01m}\u001b[39;00m\u001b[38;5;124m not in index\u001b[39m\u001b[38;5;124m\"\u001b[39m)\n",
      "\u001b[0;31mKeyError\u001b[0m: \"None of [Index(['DATE_ACQUIRED', 'SUHI'], dtype='object')] are in the [columns]\""
     ]
    }
   ],
   "source": [
    "properties = ['DATE_ACQUIRED', 'SUHI']\n",
    "# Convert to DataFrame and NumPy array\n",
    "df_suhi, suhi_array = fc_to_array_batched(landsat_suhi, properties, chunk_size=30, sleep_time=10)\n",
    "# Save as CSV\n",
    "df_suhi.to_csv(\"suhi_timeseries_rd.csv\")"
   ]
  },
  {
   "cell_type": "code",
   "execution_count": null,
   "id": "cfdc5b47-023d-421b-80cc-1e466a341b65",
   "metadata": {},
   "outputs": [],
   "source": [
    "#normalized SUHI as in https://www.mdpi.com/2073-4433/16/6/712\n",
    "def compute_normalized_suhi(image):\n",
    "    urban_mask = image.select('urban_mask')\n",
    "    \n",
    "    # Masked LST images\n",
    "    urban_temp = image.select('LST').updateMask(urban_mask)\n",
    "    nonurban_temp = image.select('LST').updateMask(urban_mask.Not())\n",
    "    \n",
    "    # Compute means and stddev for nonurban pixels\n",
    "    reducer = ee.Reducer.mean().combine(\n",
    "        reducer2=ee.Reducer.stdDev(),\n",
    "        sharedInputs=True\n",
    "    )\n",
    "    \n",
    "    stats = nonurban_temp.reduceRegion(\n",
    "        reducer=reducer,\n",
    "        geometry=image.geometry(),\n",
    "        scale=30,\n",
    "        maxPixels=1e13\n",
    "    )\n",
    "    \n",
    "    nonurban_mean = ee.Number(stats.get('LST_mean'))\n",
    "    nonurban_std = ee.Number(stats.get('LST_stdDev'))\n",
    "    \n",
    "    # Compute urban mean\n",
    "    urban_mean = urban_temp.reduceRegion(\n",
    "        reducer=ee.Reducer.mean(),\n",
    "        geometry=image.geometry(),\n",
    "        scale=30,\n",
    "        maxPixels=1e13\n",
    "    ).get('LST')\n",
    "    \n",
    "    # Avoid division by zero or null std dev\n",
    "    suhi = ee.Algorithms.If(\n",
    "        nonurban_std.gt(0),\n",
    "        ee.Number(urban_mean).subtract(nonurban_mean).divide(nonurban_std),\n",
    "        None\n",
    "    )\n",
    "    \n",
    "    return image.set({'SUHI_normalized': suhi})\n",
    "landsat_norm_suhi = landsat_indexed.map(compute_normalized_suhi)\n",
    "\n",
    "properties = ['DATE_ACQUIRED', 'SUHI_normalized']\n",
    "# Convert to DataFrame and NumPy array\n",
    "df_suhi, suhi_array = fc_to_array_batched(landsat_norm_suhi, properties, chunk_size=30, sleep_time=10)\n",
    "# Save as CSV\n",
    "df_suhi.to_csv(\"suhi_norm_timeseries_rd.csv\")"
   ]
  },
  {
   "cell_type": "code",
   "execution_count": 22,
   "id": "0b36cdcf-a684-497b-9593-511997c1ec6d",
   "metadata": {},
   "outputs": [
    {
     "data": {
      "text/html": [
       "\n",
       "            <style>\n",
       "                .geemap-dark {\n",
       "                    --jp-widgets-color: white;\n",
       "                    --jp-widgets-label-color: white;\n",
       "                    --jp-ui-font-color1: white;\n",
       "                    --jp-layout-color2: #454545;\n",
       "                    background-color: #383838;\n",
       "                }\n",
       "\n",
       "                .geemap-dark .jupyter-button {\n",
       "                    --jp-layout-color3: #383838;\n",
       "                }\n",
       "\n",
       "                .geemap-colab {\n",
       "                    background-color: var(--colab-primary-surface-color, white);\n",
       "                }\n",
       "\n",
       "                .geemap-colab .jupyter-button {\n",
       "                    --jp-layout-color3: var(--colab-primary-surface-color, white);\n",
       "                }\n",
       "            </style>\n",
       "            "
      ],
      "text/plain": [
       "<IPython.core.display.HTML object>"
      ]
     },
     "metadata": {},
     "output_type": "display_data"
    },
    {
     "data": {
      "image/png": "[encoded data removed]",
      "text/plain": [
       "<Figure size 1200x600 with 1 Axes>"
      ]
     },
     "metadata": {},
     "output_type": "display_data"
    }
   ],
   "source": [
    "#plot Csv \n",
    "df_suhi = pd.read_csv('suhi_timeseries.csv', parse_dates=['DATE_ACQUIRED'])\n",
    "df_suhi_norm = pd.read_csv('suhi_norm_timeseries.csv', parse_dates=['DATE_ACQUIRED'])\n",
    "\n",
    "plt.figure(figsize=(12,6))\n",
    "plt.plot(df_suhi['DATE_ACQUIRED'], df_suhi['SUHI'], label='UHI')\n",
    "plt.plot(df_suhi_norm['DATE_ACQUIRED'], df_suhi_norm['SUHI_normalized'], label='Normalized SUHI')\n",
    "plt.xlabel('Date')\n",
    "plt.ylabel('SUHI Value')\n",
    "plt.title('SUHI vs Normalized SUHI Time Series')\n",
    "plt.legend()\n",
    "plt.grid(True)\n",
    "plt.tight_layout()\n",
    "plt.show()\n"
   ]
  },
  {
   "cell_type": "code",
   "execution_count": null,
   "id": "24fbc2cd-03d9-4669-802d-c35a00fdf209",
   "metadata": {},
   "outputs": [],
   "source": []
  }
 ],
 "metadata": {
  "kernelspec": {
   "display_name": "Python 3 (ipykernel)",
   "language": "python",
   "name": "python3"
  },
  "language_info": {
   "codemirror_mode": {
    "name": "ipython",
    "version": 3
   },
   "file_extension": ".py",
   "mimetype": "text/x-python",
   "name": "python",
   "nbconvert_exporter": "python",
   "pygments_lexer": "ipython3",
   "version": "3.8.10"
  }
 },
 "nbformat": 4,
 "nbformat_minor": 5
}
