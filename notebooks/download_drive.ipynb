{
 "cells": [
  {
   "cell_type": "code",
   "execution_count": 1,
   "id": "1f1daca3-c6d9-451b-bef9-9069ca8f5588",
   "metadata": {},
   "outputs": [],
   "source": [
    "import geetools\n",
    "import ee\n",
    "import geemap\n",
    "import random\n",
    "import rasterio\n",
    "from rasterio.plot import show\n",
    "import matplotlib.pyplot as plt\n",
    "import xarray as xr\n",
    "import numpy as np\n",
    "import pandas as pd\n",
    "import math\n",
    "import os\n",
    "from datetime import datetime\n",
    "import skimage\n",
    "import time\n",
    "from A1_landsat_functions import *\n"
   ]
  },
  {
   "cell_type": "code",
   "execution_count": 2,
   "id": "4201d384-a1d3-4f58-abc2-481bdb1a006a",
   "metadata": {},
   "outputs": [
    {
     "data": {
      "text/html": [
       "\n",
       "            <style>\n",
       "                .geemap-dark {\n",
       "                    --jp-widgets-color: white;\n",
       "                    --jp-widgets-label-color: white;\n",
       "                    --jp-ui-font-color1: white;\n",
       "                    --jp-layout-color2: #454545;\n",
       "                    background-color: #383838;\n",
       "                }\n",
       "\n",
       "                .geemap-dark .jupyter-button {\n",
       "                    --jp-layout-color3: #383838;\n",
       "                }\n",
       "\n",
       "                .geemap-colab {\n",
       "                    background-color: var(--colab-primary-surface-color, white);\n",
       "                }\n",
       "\n",
       "                .geemap-colab .jupyter-button {\n",
       "                    --jp-layout-color3: var(--colab-primary-surface-color, white);\n",
       "                }\n",
       "            </style>\n",
       "            "
      ],
      "text/plain": [
       "<IPython.core.display.HTML object>"
      ]
     },
     "metadata": {},
     "output_type": "display_data"
    },
    {
     "data": {
      "text/plain": [
       "True"
      ]
     },
     "execution_count": 2,
     "metadata": {},
     "output_type": "execute_result"
    }
   ],
   "source": [
    "ee.Authenticate(auth_mode=\"notebook\")"
   ]
  },
  {
   "cell_type": "code",
   "execution_count": 3,
   "id": "350933b4-3c47-432e-824d-429a845d1397",
   "metadata": {},
   "outputs": [
    {
     "data": {
      "text/html": [
       "\n",
       "            <style>\n",
       "                .geemap-dark {\n",
       "                    --jp-widgets-color: white;\n",
       "                    --jp-widgets-label-color: white;\n",
       "                    --jp-ui-font-color1: white;\n",
       "                    --jp-layout-color2: #454545;\n",
       "                    background-color: #383838;\n",
       "                }\n",
       "\n",
       "                .geemap-dark .jupyter-button {\n",
       "                    --jp-layout-color3: #383838;\n",
       "                }\n",
       "\n",
       "                .geemap-colab {\n",
       "                    background-color: var(--colab-primary-surface-color, white);\n",
       "                }\n",
       "\n",
       "                .geemap-colab .jupyter-button {\n",
       "                    --jp-layout-color3: var(--colab-primary-surface-color, white);\n",
       "                }\n",
       "            </style>\n",
       "            "
      ],
      "text/plain": [
       "<IPython.core.display.HTML object>"
      ]
     },
     "metadata": {},
     "output_type": "display_data"
    }
   ],
   "source": [
    "ee.Initialize()"
   ]
  },
  {
   "cell_type": "code",
   "execution_count": 5,
   "id": "99fabf6a-9cca-4b4a-9e5e-80dc7626201f",
   "metadata": {},
   "outputs": [
    {
     "data": {
      "text/html": [
       "\n",
       "            <style>\n",
       "                .geemap-dark {\n",
       "                    --jp-widgets-color: white;\n",
       "                    --jp-widgets-label-color: white;\n",
       "                    --jp-ui-font-color1: white;\n",
       "                    --jp-layout-color2: #454545;\n",
       "                    background-color: #383838;\n",
       "                }\n",
       "\n",
       "                .geemap-dark .jupyter-button {\n",
       "                    --jp-layout-color3: #383838;\n",
       "                }\n",
       "\n",
       "                .geemap-colab {\n",
       "                    background-color: var(--colab-primary-surface-color, white);\n",
       "                }\n",
       "\n",
       "                .geemap-colab .jupyter-button {\n",
       "                    --jp-layout-color3: var(--colab-primary-surface-color, white);\n",
       "                }\n",
       "            </style>\n",
       "            "
      ],
      "text/plain": [
       "<IPython.core.display.HTML object>"
      ]
     },
     "metadata": {},
     "output_type": "display_data"
    }
   ],
   "source": [
    "#define coordinates to use \n",
    "coords_jd = (39.0053612, 21.4210088, 39.3253612, 21.7410088)  # Jeddah\n",
    "coords_md = (39.4511216, 24.311153, 39.7711216, 24.631153)   # Medina\n",
    "coords_mk = (39.698,21.078,40.222,21.694)     # Mecca\n",
    "coords_tf = (40.2558308, 21.1102801, 40.5758308, 21.4302801)   # Taif\n",
    "#coords_rd \n",
    "coords_rd = (46.5560104, 24.478916, 46.8760104, 24.798916) #Riyadh bbox\n",
    "coord_rd = [[46.4328690955,24.1659202907],[46.6345003059,25.4285645773],[47.5182109888,25.2818982646],\n",
    "             [47.5209967609,24.1956804525],[46.4328690955,24.1659202907]] #riyad polygon\n",
    "\n",
    "coords = coords_jd\n",
    "\n",
    "buffered_coords = add_degree_buffer_to_coords(coords, 0.2)\n",
    "bbox = ee.Geometry.BBox(*buffered_coords) \n",
    "#bbox = ee.Geometry.Polygon([coord_rd])"
   ]
  },
  {
   "cell_type": "code",
   "execution_count": 4,
   "id": "982605c3-cdd6-40a9-93bd-6b8fd72f9365",
   "metadata": {},
   "outputs": [
    {
     "data": {
      "text/html": [
       "\n",
       "            <style>\n",
       "                .geemap-dark {\n",
       "                    --jp-widgets-color: white;\n",
       "                    --jp-widgets-label-color: white;\n",
       "                    --jp-ui-font-color1: white;\n",
       "                    --jp-layout-color2: #454545;\n",
       "                    background-color: #383838;\n",
       "                }\n",
       "\n",
       "                .geemap-dark .jupyter-button {\n",
       "                    --jp-layout-color3: #383838;\n",
       "                }\n",
       "\n",
       "                .geemap-colab {\n",
       "                    background-color: var(--colab-primary-surface-color, white);\n",
       "                }\n",
       "\n",
       "                .geemap-colab .jupyter-button {\n",
       "                    --jp-layout-color3: var(--colab-primary-surface-color, white);\n",
       "                }\n",
       "            </style>\n",
       "            "
      ],
      "text/plain": [
       "<IPython.core.display.HTML object>"
      ]
     },
     "metadata": {},
     "output_type": "display_data"
    }
   ],
   "source": [
    "#define panels to use \n",
    "#Makka\n",
    "#WRS_PATH = 169\n",
    "#WRS_ROW = 45\n",
    "#Jeddah\n",
    "WRS_PATH = 170\n",
    "WRS_ROW = 45\n",
    "#riyadh\n",
    "#WRS_PATH = 165\n",
    "#WRS_ROW = 43"
   ]
  },
  {
   "cell_type": "code",
   "execution_count": 6,
   "id": "eb7270f7-3fe3-4256-9753-d088b70344df",
   "metadata": {},
   "outputs": [
    {
     "data": {
      "text/html": [
       "\n",
       "            <style>\n",
       "                .geemap-dark {\n",
       "                    --jp-widgets-color: white;\n",
       "                    --jp-widgets-label-color: white;\n",
       "                    --jp-ui-font-color1: white;\n",
       "                    --jp-layout-color2: #454545;\n",
       "                    background-color: #383838;\n",
       "                }\n",
       "\n",
       "                .geemap-dark .jupyter-button {\n",
       "                    --jp-layout-color3: #383838;\n",
       "                }\n",
       "\n",
       "                .geemap-colab {\n",
       "                    background-color: var(--colab-primary-surface-color, white);\n",
       "                }\n",
       "\n",
       "                .geemap-colab .jupyter-button {\n",
       "                    --jp-layout-color3: var(--colab-primary-surface-color, white);\n",
       "                }\n",
       "            </style>\n",
       "            "
      ],
      "text/plain": [
       "<IPython.core.display.HTML object>"
      ]
     },
     "metadata": {},
     "output_type": "display_data"
    }
   ],
   "source": [
    "#get Data: Landsat \n",
    "# Landsat collections (T1 = Tier 1 Surface Reflectance where available)\n",
    "landsat1 = ee.ImageCollection(\"LANDSAT/LM01/C02/T1\")\n",
    "landsat2 = ee.ImageCollection(\"LANDSAT/LM02/C02/T1\")\n",
    "landsat3 = ee.ImageCollection(\"LANDSAT/LM03/C02/T1\")\n",
    "landsat4 = ee.ImageCollection(\"LANDSAT/LT04/C02/T1_L2\")\n",
    "landsat5 = ee.ImageCollection(\"LANDSAT/LT05/C02/T1_L2\")\n",
    "landsat7 = ee.ImageCollection(\"LANDSAT/LE07/C02/T1_L2\")\n",
    "landsat8 = ee.ImageCollection(\"LANDSAT/LC08/C02/T1_L2\")\n",
    "\n",
    "# Merge Landsat collections based on sensors\n",
    "landsat_1_3 = landsat1.merge(landsat2).merge(landsat3).filterBounds(bbox).sort(\"DATE_ACQUIRED\")\n",
    "landsat_4_7 = landsat4.merge(landsat5).merge(landsat7).filterBounds(bbox).sort(\"DATE_ACQUIRED\")\n",
    "landsat8 = landsat8.filterBounds(bbox).sort(\"DATE_ACQUIRED\")\n",
    "\n",
    "landsat_1_3 = landsat_1_3.filter(ee.Filter.And(ee.Filter.eq('WRS_PATH', WRS_PATH),ee.Filter.eq('WRS_ROW', WRS_ROW))).map(lambda img: img.clip(bbox))\n",
    "landsat_4_7 = landsat_4_7.filter(ee.Filter.And(ee.Filter.eq('WRS_PATH', WRS_PATH),ee.Filter.eq('WRS_ROW', WRS_ROW))).map(lambda img: img.clip(bbox))\n",
    "landsat8    = landsat8.filter(ee.Filter.And(ee.Filter.eq('WRS_PATH', WRS_PATH),ee.Filter.eq('WRS_ROW', WRS_ROW))).map(lambda img: img.clip(bbox))\n",
    "\n",
    "#apply processing for cloud mask and rename bands\n",
    "landsat_4_7 = landsat_4_7.map(maskL457sr).map(rescaleL457sr).map(renameL457)\n",
    "landsat8 = landsat8.map(maskL8sr).map(rescaleL8sr).map(renameL8sr)\n",
    "#merge landsat data sets \n",
    "landsat = landsat_4_7.merge(landsat8)\n",
    "\n",
    "#apply diffent indices \n",
    "landsat_indexed = landsat.map(apply_indices)\n",
    "\n",
    "#Add LST\n",
    "landsat_indexed = landsat_indexed.map(add_lst)"
   ]
  },
  {
   "cell_type": "code",
   "execution_count": 7,
   "id": "77642e07-bf48-465f-9f67-ddcbc89dc667",
   "metadata": {},
   "outputs": [
    {
     "data": {
      "text/html": [
       "\n",
       "            <style>\n",
       "                .geemap-dark {\n",
       "                    --jp-widgets-color: white;\n",
       "                    --jp-widgets-label-color: white;\n",
       "                    --jp-ui-font-color1: white;\n",
       "                    --jp-layout-color2: #454545;\n",
       "                    background-color: #383838;\n",
       "                }\n",
       "\n",
       "                .geemap-dark .jupyter-button {\n",
       "                    --jp-layout-color3: #383838;\n",
       "                }\n",
       "\n",
       "                .geemap-colab {\n",
       "                    background-color: var(--colab-primary-surface-color, white);\n",
       "                }\n",
       "\n",
       "                .geemap-colab .jupyter-button {\n",
       "                    --jp-layout-color3: var(--colab-primary-surface-color, white);\n",
       "                }\n",
       "            </style>\n",
       "            "
      ],
      "text/plain": [
       "<IPython.core.display.HTML object>"
      ]
     },
     "metadata": {},
     "output_type": "display_data"
    }
   ],
   "source": [
    "exclude_ids = ['1_1_2_LT05_170045_19871122', '1_1_2_LT05_170045_19881226', '2_LC08_170045_20160801', '1_1_2_LT05_169045_19960312', \n",
    "               '2_LC08_169045_20200720', '1_1_2_LT05_169045_19840903', '2_LC08_169045_20220115', '1_2_LE07_165043_20190511', \n",
    "               '1_1_2_LT05_170045_19970202', '1_2_LE07_170045_20230410']\n",
    "landsat_indexed = landsat_indexed.filter(ee.Filter.inList('system:index', exclude_ids).Not())\n"
   ]
  },
  {
   "cell_type": "code",
   "execution_count": null,
   "id": "ac638c8b-89f5-414d-9894-ddbf747c38ab",
   "metadata": {},
   "outputs": [
    {
     "data": {
      "text/html": [
       "\n",
       "            <style>\n",
       "                .geemap-dark {\n",
       "                    --jp-widgets-color: white;\n",
       "                    --jp-widgets-label-color: white;\n",
       "                    --jp-ui-font-color1: white;\n",
       "                    --jp-layout-color2: #454545;\n",
       "                    background-color: #383838;\n",
       "                }\n",
       "\n",
       "                .geemap-dark .jupyter-button {\n",
       "                    --jp-layout-color3: #383838;\n",
       "                }\n",
       "\n",
       "                .geemap-colab {\n",
       "                    background-color: var(--colab-primary-surface-color, white);\n",
       "                }\n",
       "\n",
       "                .geemap-colab .jupyter-button {\n",
       "                    --jp-layout-color3: var(--colab-primary-surface-color, white);\n",
       "                }\n",
       "            </style>\n",
       "            "
      ],
      "text/plain": [
       "<IPython.core.display.HTML object>"
      ]
     },
     "metadata": {},
     "output_type": "display_data"
    },
    {
     "name": "stdout",
     "output_type": "stream",
     "text": [
      "Processing year 1984 with 7 images\n",
      "Started export for 19840606 (Index 0)\n",
      "Started export for 19840622 (Index 1)\n"
     ]
    }
   ],
   "source": [
    "\n",
    "# Set year range\n",
    "start_year = 1984\n",
    "end_year = 1987 #2024\n",
    "\n",
    "# Sleep interval in seconds\n",
    "sleep_seconds = 10\n",
    "\n",
    "# Define image export function\n",
    "def export_image(img, index):\n",
    "    try:\n",
    "        date_str = ee.Date(img.get(\"system:time_start\")).format(\"YYYYMMdd\").getInfo()\n",
    "        task = ee.batch.Export.image.toDrive(\n",
    "            image=img.clip(bbox),\n",
    "            description=f\"LST_Jeddah_{date_str}_{index}\",\n",
    "            folder=\"GEE_Landsat\",\n",
    "            fileNamePrefix=f\"Jeddah_LST_{date_str}\",\n",
    "            region=bbox,\n",
    "            scale=30,\n",
    "            maxPixels=1e13\n",
    "        )\n",
    "        task.start()\n",
    "        print(f\"Started export for {date_str} (Index {index})\")\n",
    "        time.sleep(sleep_seconds)\n",
    "    except Exception as e:\n",
    "        print(f\"Failed to export image at index {index}: {e}\")\n",
    "        time.sleep(sleep_seconds)\n",
    "\n",
    "# Export all images year by year\n",
    "for year in range(start_year, end_year + 1):\n",
    "    start = ee.Date(f\"{year}-01-01\")\n",
    "    end = ee.Date(f\"{year}-12-31\")\n",
    "    yearly_collection = landsat_indexed.filterDate(start, end)\n",
    "    image_list = yearly_collection.toList(yearly_collection.size())\n",
    "    num_images = image_list.size().getInfo()\n",
    "    \n",
    "    print(f\"Processing year {year} with {num_images} images\")\n",
    "\n",
    "    for i in range(num_images):\n",
    "        img = ee.Image(image_list.get(i))\n",
    "        export_image(img, index=i)\n"
   ]
  },
  {
   "cell_type": "code",
   "execution_count": null,
   "id": "c4960bce-119e-48cb-9a22-104e84a0ae8f",
   "metadata": {},
   "outputs": [],
   "source": []
  }
 ],
 "metadata": {
  "kernelspec": {
   "display_name": "Python 3 (ipykernel)",
   "language": "python",
   "name": "python3"
  },
  "language_info": {
   "codemirror_mode": {
    "name": "ipython",
    "version": 3
   },
   "file_extension": ".py",
   "mimetype": "text/x-python",
   "name": "python",
   "nbconvert_exporter": "python",
   "pygments_lexer": "ipython3",
   "version": "3.8.10"
  }
 },
 "nbformat": 4,
 "nbformat_minor": 5
}
