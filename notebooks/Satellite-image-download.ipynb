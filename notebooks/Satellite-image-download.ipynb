{
 "cells": [
  {
   "cell_type": "markdown",
   "id": "42ebd882-56c7-4d21-a63a-0ec5f26cfdf0",
   "metadata": {},
   "source": [
    "from https://github.com/H-MC/USGS-EarthExplorer-Download/tree/main"
   ]
  },
  {
   "cell_type": "code",
   "execution_count": 5,
   "id": "531adac3",
   "metadata": {
    "_cell_guid": "b1076dfc-b9ad-4769-8c92-a6c4dae69d19",
    "_uuid": "8f2839f25d086af736a60e9eeb907d3b93b6e0e5",
    "papermill": {
     "duration": 0.210542,
     "end_time": "2021-10-20T12:02:50.887058",
     "exception": false,
     "start_time": "2021-10-20T12:02:50.676516",
     "status": "completed"
    },
    "tags": []
   },
   "outputs": [],
   "source": [
    "import os, cv2, glob, shutil, time\n",
    "import pandas as pd\n",
    "import numpy as np\n",
    "import zipfile\n",
    "import getpass\n",
    "import warnings\n",
    "warnings.filterwarnings('ignore')\n",
    "\n",
    "import landsatxplore\n",
    "from landsatxplore.earthexplorer import EarthExplorer\n",
    "from retry import retry\n",
    "\n",
    "from S2_download import S2_download"
   ]
  },
  {
   "cell_type": "code",
   "execution_count": 6,
   "id": "a71d1a2e",
   "metadata": {},
   "outputs": [],
   "source": [
    "# Initial variables\n",
    "EXTRACT = False\n",
    "TRY_TIME = 3\n",
    "output_dir = './Downloads'"
   ]
  },
  {
   "cell_type": "code",
   "execution_count": 7,
   "id": "77f17ad5",
   "metadata": {},
   "outputs": [
    {
     "name": "stdin",
     "output_type": "stream",
     "text": [
      "CSV File Path from EarthExplorer:\n",
      " landsat_ot_c2_l2_687f6ac15e757af1.csv\n",
      "Username:  rgahwagy\n",
      "Password:  ········\n"
     ]
    },
    {
     "name": "stdout",
     "output_type": "stream",
     "text": [
      "\n",
      "Create \"./download\"\n"
     ]
    }
   ],
   "source": [
    "# Enter data list (.csv), Username and Password\n",
    "csv_path = input('CSV File Path from EarthExplorer:\\n')\n",
    "username = input('Username: ')\n",
    "password = getpass.getpass('Password: ')\n",
    "\n",
    "# Create a folder for save data\n",
    "try:\n",
    "    os.mkdir(output_dir)\n",
    "    print(f'\\nCreate \"{output_dir}\"')\n",
    "except:\n",
    "    pass"
   ]
  },
  {
   "cell_type": "code",
   "execution_count": 8,
   "id": "10cf3556",
   "metadata": {
    "papermill": {
     "duration": 0.01557,
     "end_time": "2021-10-20T12:02:50.960089",
     "exception": false,
     "start_time": "2021-10-20T12:02:50.944519",
     "status": "completed"
    },
    "scrolled": true,
    "tags": []
   },
   "outputs": [
    {
     "name": "stdout",
     "output_type": "stream",
     "text": [
      "Total Images:  363\n"
     ]
    }
   ],
   "source": [
    "# Read Image ID from CSV file\n",
    "df = pd.read_csv(csv_path,  encoding='ISO-8859–1', index_col=False)\n",
    "imageID = df['Entity ID']\n",
    "print('Total Images: ', len(imageID))"
   ]
  },
  {
   "cell_type": "code",
   "execution_count": 9,
   "id": "6d02a5aa",
   "metadata": {
    "scrolled": true
   },
   "outputs": [
    {
     "name": "stdout",
     "output_type": "stream",
     "text": [
      "LC81700452013109LGN03 failed\n",
      "LC81700452013125LGN02 failed\n",
      "LC81700452013141LGN02 failed\n",
      "LC81700452013157LGN01 failed\n",
      "LC81700452013173LGN01 failed\n",
      "LC81700452013189LGN01 failed\n",
      "LC81700452013205LGN01 failed\n",
      "LC81700452013221LGN02 failed\n",
      "LC81700452013237LGN01 failed\n",
      "LC81700452013253LGN01 failed\n",
      "LC81700452013269LGN01 failed\n",
      "LC81700452013285LGN01 failed\n",
      "LC81700452013301LGN01 failed\n",
      "LC81700452013317LGN01 failed\n",
      "LC81700452013333LGN01 failed\n",
      "LC81700452013349LGN01 failed\n",
      "LC81700452013365LGN01 failed\n",
      "LC81700452014016LGN01 failed\n",
      "LC81700452014032LGN01 failed\n",
      "LC81700452014048LGN01 failed\n",
      "LC81700452014064LGN01 failed\n",
      "LC81700452014080LGN01 failed\n",
      "LC81700452014096LGN02 failed\n",
      "LC81700452014112LGN01 failed\n",
      "LC81700452014128LGN02 failed\n",
      "LC81700452014144LGN01 failed\n",
      "LC81700452014160LGN01 failed\n",
      "LC81700452014176LGN01 failed\n",
      "LC81700452014192LGN01 failed\n",
      "LC81700452014208LGN01 failed\n",
      "LC81700452014224LGN01 failed\n",
      "LC81700452014240LGN01 failed\n",
      "LC81700452014256LGN01 failed\n",
      "LC81700452014272LGN01 failed\n",
      "LC81700452014288LGN01 failed\n",
      "LC81700452014304LGN01 failed\n",
      "LC81700452014320LGN01 failed\n",
      "LC81700452014336LGN01 failed\n",
      "LC81700452014352LGN01 failed\n",
      "LC81700452015003LGN01 failed\n",
      "LC81700452015019LGN01 failed\n",
      "LC81700452015035LGN01 failed\n",
      "LC81700452015051LGN02 failed\n",
      "LC81700452015067LGN01 failed\n",
      "LC81700452015083LGN01 failed\n",
      "LC81700452015099LGN01 failed\n",
      "LC81700452015115LGN01 failed\n",
      "LC81700452015131LGN01 failed\n",
      "LC81700452015147LGN01 failed\n",
      "LC81700452015163LGN01 failed\n",
      "LC81700452015179LGN01 failed\n",
      "LC81700452015195LGN01 failed\n",
      "LC81700452015211LGN01 failed\n",
      "LC81700452015227LGN01 failed\n",
      "LC81700452015243LGN01 failed\n",
      "LC81700452015259LGN01 failed\n",
      "LC81700452015275LGN01 failed\n",
      "LC81700452015291LGN01 failed\n",
      "LC81700452015307LGN01 failed\n"
     ]
    },
    {
     "ename": "KeyboardInterrupt",
     "evalue": "",
     "output_type": "error",
     "traceback": [
      "\u001b[0;31m---------------------------------------------------------------------------\u001b[0m",
      "\u001b[0;31mKeyboardInterrupt\u001b[0m                         Traceback (most recent call last)",
      "Cell \u001b[0;32mIn[9], line 14\u001b[0m\n\u001b[1;32m     11\u001b[0m     failure\u001b[38;5;241m.\u001b[39mappend(ID)\n\u001b[1;32m     12\u001b[0m     \u001b[38;5;28;01mpass\u001b[39;00m\n\u001b[0;32m---> 14\u001b[0m \u001b[43mtime\u001b[49m\u001b[38;5;241;43m.\u001b[39;49m\u001b[43msleep\u001b[49m\u001b[43m(\u001b[49m\u001b[38;5;241;43m5\u001b[39;49m\u001b[43m)\u001b[49m\n",
      "\u001b[0;31mKeyboardInterrupt\u001b[0m: "
     ]
    }
   ],
   "source": [
    "failure=[]\n",
    "\n",
    "for ID in imageID:\n",
    "    try:\n",
    "        S2_download(username=username, \n",
    "                    password=password,\n",
    "                    EntityID=ID,\n",
    "                    OUTPUT_DIR=output_dir)\n",
    "    except:\n",
    "        print(f'{ID} failed')\n",
    "        failure.append(ID)\n",
    "        pass\n",
    "    \n",
    "    time.sleep(5)\n",
    "    "
   ]
  },
  {
   "cell_type": "code",
   "execution_count": null,
   "id": "a9bbc7b1",
   "metadata": {},
   "outputs": [],
   "source": [
    "print('Fail File: ', failure)"
   ]
  }
 ],
 "metadata": {
  "kernelspec": {
   "display_name": "Python 3 (ipykernel)",
   "language": "python",
   "name": "python3"
  },
  "language_info": {
   "codemirror_mode": {
    "name": "ipython",
    "version": 3
   },
   "file_extension": ".py",
   "mimetype": "text/x-python",
   "name": "python",
   "nbconvert_exporter": "python",
   "pygments_lexer": "ipython3",
   "version": "3.8.10"
  },
  "papermill": {
   "default_parameters": {},
   "duration": 86.642909,
   "end_time": "2021-10-20T12:04:10.376824",
   "environment_variables": {},
   "exception": null,
   "input_path": "__notebook__.ipynb",
   "output_path": "__notebook__.ipynb",
   "parameters": {},
   "start_time": "2021-10-20T12:02:43.733915",
   "version": "2.3.3"
  }
 },
 "nbformat": 4,
 "nbformat_minor": 5
}
